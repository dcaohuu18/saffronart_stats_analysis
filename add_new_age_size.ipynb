{
 "cells": [
  {
   "cell_type": "code",
   "execution_count": 1,
   "metadata": {},
   "outputs": [],
   "source": [
    "import numpy as np\n",
    "import pandas as pd\n",
    "\n",
    "pd.options.display.float_format = '{:.2f}'.format # change the display format of numbers"
   ]
  },
  {
   "cell_type": "code",
   "execution_count": 2,
   "metadata": {},
   "outputs": [
    {
     "data": {
      "text/html": [
       "<div>\n",
       "<style scoped>\n",
       "    .dataframe tbody tr th:only-of-type {\n",
       "        vertical-align: middle;\n",
       "    }\n",
       "\n",
       "    .dataframe tbody tr th {\n",
       "        vertical-align: top;\n",
       "    }\n",
       "\n",
       "    .dataframe thead th {\n",
       "        text-align: right;\n",
       "    }\n",
       "</style>\n",
       "<table border=\"1\" class=\"dataframe\">\n",
       "  <thead>\n",
       "    <tr style=\"text-align: right;\">\n",
       "      <th></th>\n",
       "      <th>artist</th>\n",
       "      <th>birth_date</th>\n",
       "      <th>birth_place</th>\n",
       "      <th>death_date</th>\n",
       "      <th>artist_age</th>\n",
       "      <th>title</th>\n",
       "      <th>winning_bid</th>\n",
       "      <th>low_est</th>\n",
       "      <th>high_est</th>\n",
       "      <th>auction_date</th>\n",
       "      <th>category</th>\n",
       "      <th>style</th>\n",
       "      <th>size</th>\n",
       "      <th>medium</th>\n",
       "    </tr>\n",
       "  </thead>\n",
       "  <tbody>\n",
       "    <tr>\n",
       "      <th>0</th>\n",
       "      <td>akhilesh</td>\n",
       "      <td>1956-01-01</td>\n",
       "      <td>Indore</td>\n",
       "      <td>NaT</td>\n",
       "      <td>63.00</td>\n",
       "      <td>Divine Conversation</td>\n",
       "      <td>9000.00</td>\n",
       "      <td>5000.00</td>\n",
       "      <td>7000.00</td>\n",
       "      <td>2019-06-01</td>\n",
       "      <td>painting</td>\n",
       "      <td>abstract</td>\n",
       "      <td>71.5 x 71.5 in</td>\n",
       "      <td>acrylic on canvas</td>\n",
       "    </tr>\n",
       "    <tr>\n",
       "      <th>1</th>\n",
       "      <td>akhilesh</td>\n",
       "      <td>1956-01-01</td>\n",
       "      <td>Indore</td>\n",
       "      <td>NaT</td>\n",
       "      <td>63.00</td>\n",
       "      <td>In search of Untitled forms -II</td>\n",
       "      <td>1120.00</td>\n",
       "      <td>5000.00</td>\n",
       "      <td>6670.00</td>\n",
       "      <td>2013-11-01</td>\n",
       "      <td>painting</td>\n",
       "      <td>abstract</td>\n",
       "      <td>32.5 x 44 in</td>\n",
       "      <td>acrylic on canvas</td>\n",
       "    </tr>\n",
       "    <tr>\n",
       "      <th>2</th>\n",
       "      <td>akhilesh</td>\n",
       "      <td>1956-01-01</td>\n",
       "      <td>Indore</td>\n",
       "      <td>NaT</td>\n",
       "      <td>63.00</td>\n",
       "      <td>In Search of Untitled Lines</td>\n",
       "      <td>6186.00</td>\n",
       "      <td>6900.00</td>\n",
       "      <td>8625.00</td>\n",
       "      <td>2013-08-01</td>\n",
       "      <td>painting</td>\n",
       "      <td>NaN</td>\n",
       "      <td>47 x 47 in</td>\n",
       "      <td>acrylic on canvas</td>\n",
       "    </tr>\n",
       "    <tr>\n",
       "      <th>3</th>\n",
       "      <td>akhilesh</td>\n",
       "      <td>1956-01-01</td>\n",
       "      <td>Indore</td>\n",
       "      <td>NaT</td>\n",
       "      <td>63.00</td>\n",
       "      <td>Magadhi</td>\n",
       "      <td>2400.00</td>\n",
       "      <td>5770.00</td>\n",
       "      <td>7695.00</td>\n",
       "      <td>2013-02-01</td>\n",
       "      <td>painting</td>\n",
       "      <td>abstract</td>\n",
       "      <td>33 x 44.5 in</td>\n",
       "      <td>acrylic on canvas</td>\n",
       "    </tr>\n",
       "    <tr>\n",
       "      <th>4</th>\n",
       "      <td>akhilesh</td>\n",
       "      <td>1956-01-01</td>\n",
       "      <td>Indore</td>\n",
       "      <td>NaT</td>\n",
       "      <td>63.00</td>\n",
       "      <td>Untitled</td>\n",
       "      <td>2942.00</td>\n",
       "      <td>6735.00</td>\n",
       "      <td>8655.00</td>\n",
       "      <td>2013-02-01</td>\n",
       "      <td>painting</td>\n",
       "      <td>abstract</td>\n",
       "      <td>40 x 40 in</td>\n",
       "      <td>acrylic on canvas</td>\n",
       "    </tr>\n",
       "  </tbody>\n",
       "</table>\n",
       "</div>"
      ],
      "text/plain": [
       "     artist birth_date birth_place death_date  artist_age  \\\n",
       "0  akhilesh 1956-01-01      Indore        NaT       63.00   \n",
       "1  akhilesh 1956-01-01      Indore        NaT       63.00   \n",
       "2  akhilesh 1956-01-01      Indore        NaT       63.00   \n",
       "3  akhilesh 1956-01-01      Indore        NaT       63.00   \n",
       "4  akhilesh 1956-01-01      Indore        NaT       63.00   \n",
       "\n",
       "                             title  winning_bid  low_est  high_est  \\\n",
       "0              Divine Conversation      9000.00  5000.00   7000.00   \n",
       "1  In search of Untitled forms -II      1120.00  5000.00   6670.00   \n",
       "2      In Search of Untitled Lines      6186.00  6900.00   8625.00   \n",
       "3                          Magadhi      2400.00  5770.00   7695.00   \n",
       "4                         Untitled      2942.00  6735.00   8655.00   \n",
       "\n",
       "  auction_date  category     style             size               medium  \n",
       "0   2019-06-01  painting  abstract   71.5 x 71.5 in   acrylic on canvas   \n",
       "1   2013-11-01  painting  abstract     32.5 x 44 in   acrylic on canvas   \n",
       "2   2013-08-01  painting       NaN       47 x 47 in   acrylic on canvas   \n",
       "3   2013-02-01  painting  abstract     33 x 44.5 in   acrylic on canvas   \n",
       "4   2013-02-01  painting  abstract       40 x 40 in   acrylic on canvas   "
      ]
     },
     "execution_count": 2,
     "metadata": {},
     "output_type": "execute_result"
    }
   ],
   "source": [
    "saffronart_df = pd.read_csv('saffronart_dataset.csv') \n",
    "\n",
    "# change the dates to Pandas datetime objects:\n",
    "saffronart_df['auction_date'] = pd.to_datetime(saffronart_df['auction_date'])\n",
    "saffronart_df['birth_date'] = pd.to_datetime(saffronart_df['birth_date'])\n",
    "saffronart_df['death_date'] = pd.to_datetime(saffronart_df['death_date'])\n",
    "\n",
    "saffronart_df.head(5)"
   ]
  },
  {
   "cell_type": "code",
   "execution_count": 3,
   "metadata": {},
   "outputs": [],
   "source": [
    "import re\n",
    "\n",
    "def get_area_vol(x):\n",
    "    dimensions = re.findall('\\d+\\.\\d+|\\d+', x)\n",
    "    dimensions = list(map(float, dimensions)) # turn all dimensions into float type\n",
    "                       \n",
    "    if 'cm' in x:\n",
    "        np.array(dimensions)/2.54 # convert to inch\n",
    "    \n",
    "    return np.prod(dimensions) # multiply them altogether"
   ]
  },
  {
   "cell_type": "code",
   "execution_count": 4,
   "metadata": {},
   "outputs": [
    {
     "data": {
      "text/plain": [
       "0   5112.25\n",
       "1   1430.00\n",
       "2   2209.00\n",
       "3   1468.50\n",
       "4   1600.00\n",
       "Name: area_or_vol, dtype: float64"
      ]
     },
     "execution_count": 4,
     "metadata": {},
     "output_type": "execute_result"
    }
   ],
   "source": [
    "saffronart_df['area_or_vol'] = saffronart_df['size'].apply(lambda x: get_area_vol(x))\n",
    "saffronart_df['area_or_vol'].head(5)"
   ]
  },
  {
   "cell_type": "code",
   "execution_count": 5,
   "metadata": {},
   "outputs": [
    {
     "data": {
      "text/plain": [
       "0       23162 days\n",
       "1       21124 days\n",
       "2       21032 days\n",
       "3       20851 days\n",
       "4       20851 days\n",
       "           ...    \n",
       "12416   18852 days\n",
       "12417   36877 days\n",
       "12418   27271 days\n",
       "12419   21646 days\n",
       "12420   25080 days\n",
       "Name: auction_dt_age, Length: 12421, dtype: timedelta64[ns]"
      ]
     },
     "execution_count": 5,
     "metadata": {},
     "output_type": "execute_result"
    }
   ],
   "source": [
    "# get the artist's age on the date of the auction:\n",
    "\n",
    "saffronart_df['auction_dt_age'] = saffronart_df['auction_date'].sub(saffronart_df['birth_date'], axis=0)\n",
    "saffronart_df.auction_dt_age"
   ]
  },
  {
   "cell_type": "code",
   "execution_count": 6,
   "metadata": {},
   "outputs": [
    {
     "data": {
      "text/plain": [
       "0        63.00\n",
       "1        57.00\n",
       "2        57.00\n",
       "3        57.00\n",
       "4        57.00\n",
       "         ...  \n",
       "12416    51.00\n",
       "12417   101.00\n",
       "12418    74.00\n",
       "12419    59.00\n",
       "12420    68.00\n",
       "Name: auction_dt_age, Length: 12421, dtype: float64"
      ]
     },
     "execution_count": 6,
     "metadata": {},
     "output_type": "execute_result"
    }
   ],
   "source": [
    "# divide the number of days by 365 to get the age:\n",
    "\n",
    "saffronart_df['auction_dt_age'] = saffronart_df['auction_dt_age'].dt.days//365\n",
    "saffronart_df.auction_dt_age"
   ]
  },
  {
   "cell_type": "code",
   "execution_count": 7,
   "metadata": {},
   "outputs": [],
   "source": [
    "# if the artist is no longer living at the time of the auction, auction_dt_age = artist_age\n",
    "\n",
    "saffronart_df.loc[saffronart_df.auction_dt_age > saffronart_df.artist_age, 'auction_dt_age']=saffronart_df.artist_age"
   ]
  },
  {
   "cell_type": "code",
   "execution_count": 8,
   "metadata": {},
   "outputs": [
    {
     "data": {
      "text/plain": [
       "artist                     b c sanyal\n",
       "birth_date        1904-04-22 00:00:00\n",
       "birth_place           Dibrugarh Assam\n",
       "death_date        2003-01-01 00:00:00\n",
       "artist_age                      99.00\n",
       "title                        Untitled\n",
       "winning_bid                       NaN\n",
       "low_est                      11595.00\n",
       "high_est                     14495.00\n",
       "auction_date      2019-06-01 00:00:00\n",
       "category                     painting\n",
       "style                       landscape\n",
       "size                  35.5 x 47.25 in\n",
       "medium                 oil on canvas \n",
       "area_or_vol                   1677.38\n",
       "auction_dt_age                  99.00\n",
       "Name: 9879, dtype: object"
      ]
     },
     "execution_count": 8,
     "metadata": {},
     "output_type": "execute_result"
    }
   ],
   "source": [
    "# verify the maximum value:\n",
    "saffronart_df.iloc[saffronart_df.auction_dt_age.idxmax()]"
   ]
  },
  {
   "cell_type": "code",
   "execution_count": 9,
   "metadata": {},
   "outputs": [],
   "source": [
    "# export the updated dataframe to a CSV for later use: \n",
    "saffronart_df.to_csv(\"updated_saffronart_dataset.csv\", index = False)"
   ]
  }
 ],
 "metadata": {
  "kernelspec": {
   "display_name": "Python 3",
   "language": "python",
   "name": "python3"
  },
  "language_info": {
   "codemirror_mode": {
    "name": "ipython",
    "version": 3
   },
   "file_extension": ".py",
   "mimetype": "text/x-python",
   "name": "python",
   "nbconvert_exporter": "python",
   "pygments_lexer": "ipython3",
   "version": "3.7.6"
  }
 },
 "nbformat": 4,
 "nbformat_minor": 2
}
